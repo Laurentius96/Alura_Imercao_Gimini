{
 "cells": [
  {
   "cell_type": "code",
   "execution_count": 12,
   "id": "fe479f99",
   "metadata": {},
   "outputs": [],
   "source": [
    "# Instalação da biblioteca do google-generativeai:\n",
    "\n",
    "!pip install -q -U google-generativeai"
   ]
  },
  {
   "cell_type": "code",
   "execution_count": 13,
   "id": "380dab2c",
   "metadata": {},
   "outputs": [],
   "source": [
    "# Importação da biblioteca:\n",
    "\n",
    "import google.generativeai as genai\n",
    "\n",
    "GOOGLE_API_KEY=\"\"\n",
    "genai.configure(api_key=GOOGLE_API_KEY)"
   ]
  },
  {
   "cell_type": "code",
   "execution_count": 14,
   "id": "c80c9e92",
   "metadata": {},
   "outputs": [
    {
     "name": "stdout",
     "output_type": "stream",
     "text": [
      "models/gemini-1.0-pro\n",
      "models/gemini-1.0-pro-001\n",
      "models/gemini-1.0-pro-latest\n",
      "models/gemini-1.0-pro-vision-latest\n",
      "models/gemini-1.5-pro-latest\n",
      "models/gemini-pro\n",
      "models/gemini-pro-vision\n"
     ]
    }
   ],
   "source": [
    "# Lista dos modelos disponíveis de AI na biblioteca:\n",
    "\n",
    "for models in genai.list_models():\n",
    "    if \"generateContent\" in models.supported_generation_methods:\n",
    "        print(models.name)"
   ]
  },
  {
   "cell_type": "code",
   "execution_count": 15,
   "id": "19cfd714",
   "metadata": {},
   "outputs": [],
   "source": [
    "# Ajustes nas configurações da capacidade de raciocínio Gimini (apenas algumas):\n",
    "\n",
    "generation_config = {\n",
    "   \"candidate_count\": 1,\n",
    "    \"temperature\": 0.8,   \n",
    "}"
   ]
  },
  {
   "cell_type": "code",
   "execution_count": 23,
   "id": "534c05c2",
   "metadata": {},
   "outputs": [],
   "source": [
    "# Fazendo as configurações de segurança do Gemini:\n",
    "\n",
    "safety_setting = {\n",
    "    \"HARASSMENT\": \"BLOCK_NONE\",\n",
    "    \"HATE\": \"BLOCK_NONE\",\n",
    "    \"SEXUAL\" : \"BLOCK_NONE\",\n",
    "    \"DANGEROUS\" : \"BLOCK_NONE\"\n",
    "}"
   ]
  },
  {
   "cell_type": "code",
   "execution_count": 24,
   "id": "21e7e0c1",
   "metadata": {},
   "outputs": [],
   "source": [
    "# Inicializando o modelo:\n",
    "\n",
    "model = genai.GenerativeModel(model_name='gemini-1.0-pro',\n",
    "                                  generation_config=generation_config,\n",
    "                                  safety_settings=safety_settings,)"
   ]
  },
  {
   "cell_type": "code",
   "execution_count": 28,
   "id": "d48ed4f6",
   "metadata": {},
   "outputs": [
    {
     "name": "stdout",
     "output_type": "stream",
     "text": [
      "Olá, como posso ajudá-lo?\n"
     ]
    }
   ],
   "source": [
    "response = model.generate_content(\"Olá\")\n",
    "print(response.text)"
   ]
  },
  {
   "cell_type": "code",
   "execution_count": 29,
   "id": "b0d26a10",
   "metadata": {},
   "outputs": [],
   "source": [
    "# Criando o modelo:\n",
    "\n"
   ]
  },
  {
   "cell_type": "code",
   "execution_count": null,
   "id": "d3d556cd",
   "metadata": {},
   "outputs": [],
   "source": []
  }
 ],
 "metadata": {
  "kernelspec": {
   "display_name": "Python 3 (ipykernel)",
   "language": "python",
   "name": "python3"
  },
  "language_info": {
   "codemirror_mode": {
    "name": "ipython",
    "version": 3
   },
   "file_extension": ".py",
   "mimetype": "text/x-python",
   "name": "python",
   "nbconvert_exporter": "python",
   "pygments_lexer": "ipython3",
   "version": "3.11.5"
  }
 },
 "nbformat": 4,
 "nbformat_minor": 5
}
