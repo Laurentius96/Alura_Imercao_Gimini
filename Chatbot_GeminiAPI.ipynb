{
 "cells": [
  {
   "cell_type": "code",
   "execution_count": 6,
   "id": "fe479f99",
   "metadata": {},
   "outputs": [],
   "source": [
    "# Instalação da biblioteca do google-generativeai:\n",
    "\n",
    "!pip install -q -U google-generativeai"
   ]
  },
  {
   "cell_type": "code",
   "execution_count": 7,
   "id": "380dab2c",
   "metadata": {},
   "outputs": [],
   "source": [
    "# Importação da biblioteca:\n",
    "\n",
    "import google.generativeai as genai\n",
    "\n",
    "GOOGLE_API_KEY=\"\"\n",
    "genai.configure(api_key=GOOGLE_API_KEY)"
   ]
  },
  {
   "cell_type": "code",
   "execution_count": 8,
   "id": "1a136723",
   "metadata": {},
   "outputs": [
    {
     "name": "stdout",
     "output_type": "stream",
     "text": [
      "models/gemini-1.0-pro\n",
      "models/gemini-1.0-pro-001\n",
      "models/gemini-1.0-pro-latest\n",
      "models/gemini-1.0-pro-vision-latest\n",
      "models/gemini-1.5-pro-latest\n",
      "models/gemini-pro\n",
      "models/gemini-pro-vision\n"
     ]
    }
   ],
   "source": [
    "# Lista dos modelos disponíveis de AI na biblioteca:\n",
    "\n",
    "for models in genai.list_models():\n",
    "    if \"generateContent\" in models.supported_generation_methods:\n",
    "        print(models.name)"
   ]
  },
  {
   "cell_type": "code",
   "execution_count": 9,
   "id": "b145397b",
   "metadata": {},
   "outputs": [],
   "source": [
    "# Ajustes nas configurações da capacidade de raciocínio Gimini (apenas algumas):\n",
    "\n",
    "generation_config = {\n",
    "   \"candidate_count\": 1,\n",
    "    \"temperature\": 0.8,   \n",
    "}"
   ]
  },
  {
   "cell_type": "code",
   "execution_count": 10,
   "id": "54f81088",
   "metadata": {},
   "outputs": [],
   "source": [
    "# Fazendo as configurações de segurança do Gemini:\n",
    "\n",
    "safety_settings = {\n",
    "    \"HARASSMENT\": \"BLOCK_NONE\",\n",
    "    \"HATE\": \"BLOCK_NONE\",\n",
    "    \"SEXUAL\" : \"BLOCK_NONE\",\n",
    "    \"DANGEROUS\" : \"BLOCK_NONE\"\n",
    "}"
   ]
  },
  {
   "cell_type": "code",
   "execution_count": 11,
   "id": "33f7c6d7",
   "metadata": {},
   "outputs": [],
   "source": [
    "# Criando a variaável que irá receber o modelo:\n",
    "\n",
    "model = genai.GenerativeModel(model_name='gemini-1.0-pro',\n",
    "                                  generation_config=generation_config,\n",
    "                                  safety_settings=safety_settings,)"
   ]
  },
  {
   "cell_type": "code",
   "execution_count": 12,
   "id": "dccca6e5",
   "metadata": {},
   "outputs": [
    {
     "name": "stdout",
     "output_type": "stream",
     "text": [
      "Olá, como posso ajudá-lo hoje?\n"
     ]
    }
   ],
   "source": [
    "response = model.generate_content(\"Olá\")\n",
    "print(response.text)"
   ]
  },
  {
   "cell_type": "code",
   "execution_count": 13,
   "id": "dc409c36",
   "metadata": {},
   "outputs": [
    {
     "name": "stdout",
     "output_type": "stream",
     "text": [
      "Esperando o seu prompt: fim\n"
     ]
    }
   ],
   "source": [
    "# Criando uma lista para manter o histórioco da conversa:\n",
    "\n",
    "chat = model.start_chat(history=[])\n",
    "\n",
    "# Criando variável que irá receber o prompt:\n",
    "\n",
    "prompt = input(\"Esperando o seu prompt: \")\n",
    "\n",
    "while prompt != \"fim\":\n",
    "    response = chat.send_message(prompt)\n",
    "    print(\"Resposta:\", response.text, \"\\n\\n-----------------------------------\\n\\n\")\n",
    "    prompt = input(\"Esperando o seu prompt: \")\n"
   ]
  },
  {
   "cell_type": "code",
   "execution_count": 16,
   "id": "b354d61a",
   "metadata": {},
   "outputs": [
    {
     "name": "stdout",
     "output_type": "stream",
     "text": [
      "Esperando o seu prompt: Olá\n",
      "Resposta: Olá, como posso ajudá-lo hoje? \n",
      "\n",
      "-----------------------------------\n",
      "\n",
      "\n",
      "Esperando o seu prompt: fim\n"
     ]
    }
   ],
   "source": [
    "# Criando uma lista para manter o histórioco da conversa:\n",
    "\n",
    "chat = model.start_chat(history=[])\n",
    "\n",
    "# Criando variável que irá receber o prompt:\n",
    "\n",
    "prompt = input(\"Esperando o seu prompt: \")\n",
    "\n",
    "while prompt != \"fim\":\n",
    "    response = chat.send_message(prompt)\n",
    "    print(\"Resposta:\", response.text, \"\\n\\n-----------------------------------\\n\\n\")\n",
    "    prompt = input(\"Esperando o seu prompt: \")"
   ]
  },
  {
   "cell_type": "code",
   "execution_count": 17,
   "id": "5ec23d78",
   "metadata": {},
   "outputs": [
    {
     "data": {
      "text/markdown": [
       "> **user**: Olá"
      ],
      "text/plain": [
       "<IPython.core.display.Markdown object>"
      ]
     },
     "metadata": {},
     "output_type": "display_data"
    },
    {
     "name": "stdout",
     "output_type": "stream",
     "text": [
      "-------------------------------------------\n"
     ]
    },
    {
     "data": {
      "text/markdown": [
       "> **model**: Olá, como posso ajudá-lo hoje?"
      ],
      "text/plain": [
       "<IPython.core.display.Markdown object>"
      ]
     },
     "metadata": {},
     "output_type": "display_data"
    },
    {
     "name": "stdout",
     "output_type": "stream",
     "text": [
      "-------------------------------------------\n"
     ]
    }
   ],
   "source": [
    "#Melhorando a visualização\n",
    "\n",
    "#Código disponível em https://ai.google.dev/tutorials/python_quickstart#import_packages\n",
    "\n",
    "import textwrap\n",
    "from IPython.display import display\n",
    "from IPython.display import Markdown\n",
    "\n",
    "def to_markdown(text):\n",
    "  text = text.replace('•', '  *')\n",
    "  return Markdown(textwrap.indent(text, '> ', predicate=lambda _: True))\n",
    "\n",
    "#Imprimindo o histórico\n",
    "for message in chat.history:\n",
    "  display(to_markdown(f'**{message.role}**: {message.parts[0].text}'))\n",
    "  print('-------------------------------------------')"
   ]
  }
 ],
 "metadata": {
  "kernelspec": {
   "display_name": "Python 3 (ipykernel)",
   "language": "python",
   "name": "python3"
  },
  "language_info": {
   "codemirror_mode": {
    "name": "ipython",
    "version": 3
   },
   "file_extension": ".py",
   "mimetype": "text/x-python",
   "name": "python",
   "nbconvert_exporter": "python",
   "pygments_lexer": "ipython3",
   "version": "3.11.5"
  }
 },
 "nbformat": 4,
 "nbformat_minor": 5
}
